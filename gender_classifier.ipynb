{
 "cells": [
  {
   "cell_type": "code",
   "execution_count": 2,
   "id": "d57dcc4a-d59d-490a-a0ea-2711f251a9e1",
   "metadata": {},
   "outputs": [
    {
     "data": {
      "text/html": [
       "<div>\n",
       "<style scoped>\n",
       "    .dataframe tbody tr th:only-of-type {\n",
       "        vertical-align: middle;\n",
       "    }\n",
       "\n",
       "    .dataframe tbody tr th {\n",
       "        vertical-align: top;\n",
       "    }\n",
       "\n",
       "    .dataframe thead th {\n",
       "        text-align: right;\n",
       "    }\n",
       "</style>\n",
       "<table border=\"1\" class=\"dataframe\">\n",
       "  <thead>\n",
       "    <tr style=\"text-align: right;\">\n",
       "      <th></th>\n",
       "      <th>ActorID</th>\n",
       "      <th>Age</th>\n",
       "      <th>Sex</th>\n",
       "      <th>Race</th>\n",
       "      <th>Ethnicity</th>\n",
       "    </tr>\n",
       "  </thead>\n",
       "  <tbody>\n",
       "    <tr>\n",
       "      <th>0</th>\n",
       "      <td>1001</td>\n",
       "      <td>51</td>\n",
       "      <td>Male</td>\n",
       "      <td>Caucasian</td>\n",
       "      <td>Not Hispanic</td>\n",
       "    </tr>\n",
       "    <tr>\n",
       "      <th>1</th>\n",
       "      <td>1002</td>\n",
       "      <td>21</td>\n",
       "      <td>Female</td>\n",
       "      <td>Caucasian</td>\n",
       "      <td>Not Hispanic</td>\n",
       "    </tr>\n",
       "    <tr>\n",
       "      <th>2</th>\n",
       "      <td>1003</td>\n",
       "      <td>21</td>\n",
       "      <td>Female</td>\n",
       "      <td>Caucasian</td>\n",
       "      <td>Not Hispanic</td>\n",
       "    </tr>\n",
       "    <tr>\n",
       "      <th>3</th>\n",
       "      <td>1004</td>\n",
       "      <td>42</td>\n",
       "      <td>Female</td>\n",
       "      <td>Caucasian</td>\n",
       "      <td>Not Hispanic</td>\n",
       "    </tr>\n",
       "    <tr>\n",
       "      <th>4</th>\n",
       "      <td>1005</td>\n",
       "      <td>29</td>\n",
       "      <td>Male</td>\n",
       "      <td>African American</td>\n",
       "      <td>Not Hispanic</td>\n",
       "    </tr>\n",
       "  </tbody>\n",
       "</table>\n",
       "</div>"
      ],
      "text/plain": [
       "   ActorID  Age     Sex              Race     Ethnicity\n",
       "0     1001   51    Male         Caucasian  Not Hispanic\n",
       "1     1002   21  Female         Caucasian  Not Hispanic\n",
       "2     1003   21  Female         Caucasian  Not Hispanic\n",
       "3     1004   42  Female         Caucasian  Not Hispanic\n",
       "4     1005   29    Male  African American  Not Hispanic"
      ]
     },
     "execution_count": 2,
     "metadata": {},
     "output_type": "execute_result"
    }
   ],
   "source": [
    "import pandas as pd\n",
    "import os\n",
    "\n",
    "# Updated path to match your folder\n",
    "csv_path = r\"C:\\Users\\vaidi\\Downloads\\emotion_detection\\VideoDemographics.csv\"\n",
    "\n",
    "# Load metadata\n",
    "metadata = pd.read_csv(csv_path)\n",
    "\n",
    "# Preview the data\n",
    "metadata.head()"
   ]
  },
  {
   "cell_type": "code",
   "execution_count": 3,
   "id": "b9ad1aa5-98fe-475c-9e49-3177c91d9fb3",
   "metadata": {},
   "outputs": [
    {
     "data": {
      "text/plain": [
       "[(1001, 0), (1002, 1), (1003, 1), (1004, 1), (1005, 0)]"
      ]
     },
     "execution_count": 3,
     "metadata": {},
     "output_type": "execute_result"
    }
   ],
   "source": [
    "# Create a gender map from ActorID\n",
    "gender_map = {\n",
    "    int(row['ActorID']): 1 if row['Sex'].strip().lower().startswith('f') else 0\n",
    "    for _, row in metadata.iterrows()\n",
    "}\n",
    "\n",
    "# Show a few entries\n",
    "list(gender_map.items())[:5]\n"
   ]
  },
  {
   "cell_type": "code",
   "execution_count": 4,
   "id": "3c7cf8b3-8026-4419-99e0-b654e83e7a93",
   "metadata": {},
   "outputs": [],
   "source": [
    "import librosa\n",
    "import numpy as np\n",
    "import os\n",
    "\n",
    "# ✅ Corrected path to audio files\n",
    "audio_path = r\"C:\\Users\\vaidi\\Downloads\\emotion_detection\\AudioWAV\"\n",
    "\n",
    "# Lists to store features and labels\n",
    "features = []\n",
    "labels = []\n",
    "\n",
    "# Function to extract MFCC features\n",
    "def extract_mfcc(file_path):\n",
    "    y, sr = librosa.load(file_path, sr=22050)\n",
    "    mfcc = librosa.feature.mfcc(y=y, sr=sr, n_mfcc=13)\n",
    "    return np.mean(mfcc.T, axis=0)\n",
    "\n",
    "# Loop through audio files\n",
    "for filename in os.listdir(audio_path):\n",
    "    if filename.endswith(\".wav\"):\n",
    "        actor_id = int(filename.split(\"_\")[0])\n",
    "        gender = gender_map.get(actor_id)\n",
    "\n",
    "        if gender is not None:\n",
    "            file_path = os.path.join(audio_path, filename)\n",
    "            try:\n",
    "                mfcc = extract_mfcc(file_path)\n",
    "                features.append(mfcc)\n",
    "                labels.append(gender)\n",
    "            except Exception as e:\n",
    "                print(f\"Error processing {filename}: {e}\")\n"
   ]
  },
  {
   "cell_type": "code",
   "execution_count": 5,
   "id": "18527c11-f2fc-451a-8958-4e6157047ba8",
   "metadata": {},
   "outputs": [
    {
     "data": {
      "text/plain": [
       "((5953, 13), (1489, 13), (5953,), (1489,))"
      ]
     },
     "execution_count": 5,
     "metadata": {},
     "output_type": "execute_result"
    }
   ],
   "source": [
    "from sklearn.model_selection import train_test_split\n",
    "\n",
    "# Convert to NumPy arrays\n",
    "X = np.array(features)\n",
    "y = np.array(labels)\n",
    "\n",
    "# Split into train and test sets (80% train, 20% test)\n",
    "X_train, X_test, y_train, y_test = train_test_split(X, y, test_size=0.2, random_state=42)\n",
    "\n",
    "# Show the shapes of each set\n",
    "X_train.shape, X_test.shape, y_train.shape, y_test.shape\n"
   ]
  },
  {
   "cell_type": "code",
   "execution_count": 6,
   "id": "c5fa4f31-d12d-4d21-9eb3-3b33ad6bee1a",
   "metadata": {},
   "outputs": [
    {
     "name": "stdout",
     "output_type": "stream",
     "text": [
      "Accuracy: 0.7353928811282741\n",
      "\n",
      "Classification Report:\n",
      "               precision    recall  f1-score   support\n",
      "\n",
      "        Male       0.75      0.76      0.76       802\n",
      "      Female       0.72      0.71      0.71       687\n",
      "\n",
      "    accuracy                           0.74      1489\n",
      "   macro avg       0.73      0.73      0.73      1489\n",
      "weighted avg       0.74      0.74      0.74      1489\n",
      "\n"
     ]
    }
   ],
   "source": [
    "from sklearn.linear_model import LogisticRegression\n",
    "from sklearn.metrics import accuracy_score, classification_report\n",
    "\n",
    "# Create and train the model\n",
    "model = LogisticRegression(max_iter=1000)\n",
    "model.fit(X_train, y_train)\n",
    "\n",
    "# Predict on the test set\n",
    "y_pred = model.predict(X_test)\n",
    "\n",
    "# Evaluate\n",
    "print(\"Accuracy:\", accuracy_score(y_test, y_pred))\n",
    "print(\"\\nClassification Report:\\n\", classification_report(y_test, y_pred, target_names=[\"Male\", \"Female\"]))\n"
   ]
  },
  {
   "cell_type": "code",
   "execution_count": 7,
   "id": "adfd2e22-0efe-4505-84be-f3f5d4a4c9ed",
   "metadata": {},
   "outputs": [
    {
     "name": "stdout",
     "output_type": "stream",
     "text": [
      "Model saved as gender_classifier.pkl\n"
     ]
    }
   ],
   "source": [
    "import joblib\n",
    "\n",
    "# Save the trained model\n",
    "joblib.dump(model, \"gender_classifier.pkl\")\n",
    "print(\"Model saved as gender_classifier.pkl\")\n"
   ]
  },
  {
   "cell_type": "code",
   "execution_count": 10,
   "id": "744b3bfc-2d2c-4e56-93a2-5a0ad13be4a6",
   "metadata": {},
   "outputs": [
    {
     "name": "stdout",
     "output_type": "stream",
     "text": [
      "Predicted Gender: Female\n"
     ]
    }
   ],
   "source": [
    "# Load saved model\n",
    "gender_model = joblib.load(\"gender_classifier.pkl\")\n",
    "\n",
    "# Path to a test .wav file\n",
    "test_file = r\"C:\\Users\\vaidi\\Downloads\\emotion_detection\\AudioWAV\\1010_WSI_HAP_XX.wav\"  # Replace with any valid file\n",
    "\n",
    "# Extract MFCC and reshape for prediction\n",
    "mfcc = extract_mfcc(test_file).reshape(1, -1)\n",
    "predicted_gender = gender_model.predict(mfcc)[0]\n",
    "\n",
    "# Interpret prediction\n",
    "gender_label = \"Female\" if predicted_gender == 1 else \"Male\"\n",
    "print(\"Predicted Gender:\", gender_label)\n"
   ]
  },
  {
   "cell_type": "code",
   "execution_count": null,
   "id": "f8d8c550-65e6-4b5a-b018-dbd4ceb42571",
   "metadata": {},
   "outputs": [],
   "source": []
  },
  {
   "cell_type": "code",
   "execution_count": null,
   "id": "f29c96e1-3a28-4be1-b233-1d11d0f8c2b7",
   "metadata": {},
   "outputs": [],
   "source": []
  }
 ],
 "metadata": {
  "kernelspec": {
   "display_name": "Python 3 (ipykernel)",
   "language": "python",
   "name": "python3"
  },
  "language_info": {
   "codemirror_mode": {
    "name": "ipython",
    "version": 3
   },
   "file_extension": ".py",
   "mimetype": "text/x-python",
   "name": "python",
   "nbconvert_exporter": "python",
   "pygments_lexer": "ipython3",
   "version": "3.12.4"
  }
 },
 "nbformat": 4,
 "nbformat_minor": 5
}
